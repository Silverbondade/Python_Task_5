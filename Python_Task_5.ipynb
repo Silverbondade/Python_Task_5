{
 "cells": [
  {
   "cell_type": "markdown",
   "id": "0c18c73b-81a8-4aa9-a7e6-a0399067fa5f",
   "metadata": {},
   "source": [
    "**Math_op using func and condition**"
   ]
  },
  {
   "cell_type": "code",
   "execution_count": 1,
   "id": "30595170-5c31-4260-b664-91b5b4184188",
   "metadata": {},
   "outputs": [
    {
     "name": "stdout",
     "output_type": "stream",
     "text": [
      "addition = 1000\n",
      "subtraction = 4500\n",
      "multiplication = 2400000\n"
     ]
    }
   ],
   "source": [
    "def mathop (val1,val2,op):\n",
    "    result = val1 + val2\n",
    "    result1 = val1 - val2\n",
    "    result2 = val1 * val2\n",
    "    result3 = val1 / val2\n",
    "    if op == 'addition':\n",
    "        return result\n",
    "    elif op == 'subtraction':\n",
    "        return result1\n",
    "    elif op == 'multiplication':\n",
    "        return result2\n",
    "    else:\n",
    "        return 'operation not define'\n",
    "    \n",
    "\n",
    "addition = mathop(400,600,'addition')\n",
    "subtraction = mathop(5000,500,'subtraction')\n",
    "multiplication = mathop(8000,300,'multiplication')\n",
    "\n",
    "\n",
    "print(f'addition = {addition}')\n",
    "print(f'subtraction = {subtraction}')\n",
    "print(f'multiplication = {multiplication}')"
   ]
  },
  {
   "cell_type": "markdown",
   "id": "bfe8319d-03bc-4c82-9ed1-42dd3fad22f8",
   "metadata": {},
   "source": [
    "**Parymid**"
   ]
  },
  {
   "cell_type": "code",
   "execution_count": 3,
   "id": "62b7b95d-3d91-4310-989d-4ef939b5fba0",
   "metadata": {},
   "outputs": [
    {
     "name": "stdout",
     "output_type": "stream",
     "text": [
      "        *\n",
      "       ***\n",
      "      *****\n",
      "     *******\n",
      "    *********\n"
     ]
    }
   ],
   "source": [
    "x = 8\n",
    "for y in range(1,10,2):\n",
    "    print(x * ' ' + y * '*')\n",
    "    x=x-1"
   ]
  }
 ],
 "metadata": {
  "kernelspec": {
   "display_name": "Python 3 (ipykernel)",
   "language": "python",
   "name": "python3"
  },
  "language_info": {
   "codemirror_mode": {
    "name": "ipython",
    "version": 3
   },
   "file_extension": ".py",
   "mimetype": "text/x-python",
   "name": "python",
   "nbconvert_exporter": "python",
   "pygments_lexer": "ipython3",
   "version": "3.12.4"
  }
 },
 "nbformat": 4,
 "nbformat_minor": 5
}
